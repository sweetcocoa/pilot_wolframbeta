{
 "cells": [
  {
   "cell_type": "markdown",
   "metadata": {},
   "source": [
    "## Wolframbeta ##\n",
    "---\n",
    "### 구현된 기능 ###\n",
    "- 사칙연산\n",
    "    두 실수의 사칙연산\n",
    "    괄호를 포함한 여러 실수의 사칙연산\n",
    "    괄호, 곱셈, 덧셈을 포함한 여러 실수의 연산자 우선순위를 따르는 사칙연산\n",
    "- 거듭제곱\n",
    "    거듭제곱의 우선순위는 괄호 > 거듭제곱 > 곱셈, 나눗셈\n",
    "- 연산 트리 생성\n",
    "- 일반함수의 토큰화\n",
    "\n",
    "\n",
    "### TODO ###\n",
    "- pi, e 등의 수학 상수 지원(부동소수점 실수 근사값)\n",
    "- 초등함수 (대수함수, 삼각함수, 지수함수, 로그함수)\n",
    "- 합성함수\n",
    "- 함수 정의\n",
    "- 다항식의 계산\n",
    "- 함수값의 계산\n",
    "- 일변수 함수의 미분\n",
    "- 다변수 함수의 정의\n",
    "- 다변수 함수의 편미분\n",
    "- 미분가능성 판단\n",
    "\n",
    "- GUI 인터페이스\n",
    "- 함수 출력, 함수 그래프 출력"
   ]
  },
  {
   "cell_type": "code",
   "execution_count": 1,
   "metadata": {
    "collapsed": true
   },
   "outputs": [],
   "source": [
    "from wolframbeta.utils import *"
   ]
  },
  {
   "cell_type": "code",
   "execution_count": 288,
   "metadata": {
    "collapsed": true
   },
   "outputs": [],
   "source": [
    "CONST_KEY = \"$const\"\n",
    "COEFF_KEY = \"$coeff\"\n",
    "SUCCESS_CODE = \"SUCCESS\""
   ]
  },
  {
   "cell_type": "code",
   "execution_count": 179,
   "metadata": {
    "collapsed": true
   },
   "outputs": [],
   "source": [
    "class Variable(str):\n",
    "    pass"
   ]
  },
  {
   "cell_type": "code",
   "execution_count": 263,
   "metadata": {
    "collapsed": true
   },
   "outputs": [],
   "source": [
    "class ExprDict(dict):\n",
    "    def __init__(self, *args):\n",
    "        if isinstance(*args, float) or isinstance(*args, int):\n",
    "            super(self.__class__, self).__init__()\n",
    "            self[CONST_KEY] = args[0]\n",
    "        else:\n",
    "            if len(args) > 0 and isinstance(args[0], TermDict):\n",
    "                super(self.__class__, self).__init__()\n",
    "                if args[0].is_constant():\n",
    "                    self[CONST_KEY] = args[0][COEFF_KEY]\n",
    "                else:\n",
    "                    self[args[0]] = args[0][COEFF_KEY]\n",
    "                    self[CONST_KEY] = 0.0\n",
    "            else:\n",
    "                super(self.__class__, self).__init__(*args)\n",
    "                if CONST_KEY not in self.keys():\n",
    "                    self[CONST_KEY] = 0.0\n",
    "\n",
    "    def __add__(self, other):\n",
    "        ret_dict = None\n",
    "        if isinstance(other, int) or isinstance(other, float):\n",
    "            ret_dict = ExprDict(self)\n",
    "            ret_dict[CONST_KEY] += other\n",
    "            \n",
    "        elif isinstance(other, TermDict):\n",
    "            ret_dict = ExprDict(self)\n",
    "            if other.is_constant():\n",
    "                const = other.get_coefficient()\n",
    "                ret_dict = self + const\n",
    "            else:\n",
    "                print( other, ret_dict )\n",
    "                if other in ret_dict.keys():\n",
    "                    print(\"in\")\n",
    "                    ret_dict[other] += other.get_coefficient()\n",
    "                    if ret_dict[other] == 0:\n",
    "                        ret_dict.pop(other, None)\n",
    "                else:\n",
    "                    print(\"not in\")\n",
    "                    ret_dict[other] = other.get_coefficient()\n",
    "\n",
    "        elif isinstance(other, ExprDict):\n",
    "            ret_dict = ExprDict(self)\n",
    "            for term, coeff in other.items():\n",
    "                if term == CONST_KEY:\n",
    "                    ret_dict[CONST_KEY] = ret_dict[CONST_KEY] + other[CONST_KEY]\n",
    "                else:\n",
    "                    ret_dict = ret_dict + term\n",
    "        \n",
    "        if ret_dict.has_one_term():\n",
    "            ret_dict = ret_dict.get_one_term()\n",
    "            \n",
    "        return ret_dict\n",
    "    \n",
    "    def __sub__(self, other):\n",
    "        return self + -other\n",
    "    \n",
    "    def __neg__(self, other):\n",
    "        ret_dict = ExprDict(self)\n",
    "        for term, coeff in ret_dict.items():\n",
    "            ret_dict[term] = -coeff\n",
    "        return ret_dict\n",
    "    \n",
    "    def is_constant(self):\n",
    "        return len(self) == 1\n",
    "    \n",
    "    def has_one_term(self):\n",
    "        if self.get_constant() == 0:\n",
    "            if len(self) == 2:\n",
    "                return True\n",
    "            else:\n",
    "                return False\n",
    "        else:\n",
    "            return len(self) == 1\n",
    "    \n",
    "    def get_constant(self):\n",
    "        return self[CONST_KEY]\n",
    "    \n",
    "    def get_one_term(self):\n",
    "        \"\"\"\n",
    "        return (one term, its coefficient)\n",
    "        \"\"\"\n",
    "        if self.is_constant():\n",
    "            return TermDict(self.get_constant()), 1.0\n",
    "        else:\n",
    "            for term, coeff in self.items():\n",
    "                if term == CONST_KEY:\n",
    "                    continue\n",
    "                else:\n",
    "                    return term, coeff"
   ]
  },
  {
   "cell_type": "code",
   "execution_count": 319,
   "metadata": {
    "collapsed": true
   },
   "outputs": [],
   "source": [
    "class TermDict(dict):\n",
    "    def __init__(self, *args):\n",
    "        if isinstance(*args, float) or isinstance(*args, int):\n",
    "            super(self.__class__, self).__init__()\n",
    "            self[COEFF_KEY] = args[0]\n",
    "        else:\n",
    "            super(self.__class__, self).__init__(*args)\n",
    "            if len(args) > 0 and isinstance(args[0], TermDict):\n",
    "                self[COEFF_KEY] = args[0].get_coefficient()\n",
    "            else:\n",
    "                self[COEFF_KEY] = 1.0\n",
    "\n",
    "    def __add__(self, other):\n",
    "\n",
    "        ret_dict = None\n",
    "        if isinstance(other, ExprDict):\n",
    "            return other + self\n",
    "        elif isinstance(other, TermDict):\n",
    "            if str(self) == str(other):\n",
    "                if self[COEFF_KEY] + other.get_coefficient() == 0:\n",
    "                    ret_dict = TermDict(0)\n",
    "                else:\n",
    "                    ret_dict = TermDict(self)\n",
    "                    ret_dict[COEFF_KEY] += other.get_coefficient()\n",
    "            else:\n",
    "                ret_dict = ExprDict(other)\n",
    "                ret_dict = ret_dict + self\n",
    "        elif isinstance(other, float) or isinstance(other, int):\n",
    "            ret_dict = ExprDict(other)\n",
    "            ret_dict = ret_dict + self\n",
    "\n",
    "        if ret_dict is None:\n",
    "            raise_error(\"Error : TermDict + unknown\")\n",
    "            ret_dict = TermDict()\n",
    "\n",
    "        return ret_dict\n",
    "\n",
    "    def __radd__(self, other):\n",
    "        return self + other\n",
    "\n",
    "    def __sub__(self, other):\n",
    "        return self + -other\n",
    "\n",
    "    def __rsub__(self, other):\n",
    "        return other + -self\n",
    "\n",
    "    def __mul__(self, other):\n",
    "        if isinstance(other, TermDict):\n",
    "            ret_dict = TermDict(self)\n",
    "            ret_dict[COEFF_KEY] *= other.get_coefficient()\n",
    "            for factor, power in other.items():\n",
    "                if factor == COEFF_KEY:\n",
    "                    continue\n",
    "                if factor in ret_dict.keys():\n",
    "                    ret_dict[factor] = ret_dict[factor] + power\n",
    "                    if ret_dict[factor] == 0:\n",
    "                        ret_dict.pop(factor, None)\n",
    "                else:\n",
    "                    ret_dict[factor] = power\n",
    "            return ret_dict\n",
    "\n",
    "        elif isinstance(other, ExprDict):\n",
    "            return ExprDict * self\n",
    "\n",
    "        elif isinstance(other, float) or isinstance(other, int):\n",
    "            if other == 0:\n",
    "                return TermDict(0)\n",
    "            ret_dict = TermDict(self)\n",
    "            ret_dict[COEFF_KEY] *= float(other)\n",
    "            return ret_dict\n",
    "\n",
    "        else:\n",
    "            raise_error(\"Not implemented : termdict * unknown\")\n",
    "\n",
    "    def __rmul__(self, other):\n",
    "        return self * other\n",
    "\n",
    "    def __truediv__(self, other):\n",
    "        if isinstance(other, TermDict):\n",
    "            ret_dict = TermDict(self)\n",
    "            ret_dict[COEFF_KEY] /= other.get_coefficient()\n",
    "            for factor, power in other.items():\n",
    "                if factor == COEFF_KEY:\n",
    "                    continue\n",
    "                if factor in ret_dict.keys():\n",
    "                    ret_dict[factor] = ret_dict[factor] - other[factor]\n",
    "                    if ret_dict[factor] == 0:\n",
    "                        ret_dict.pop(factor, None)\n",
    "                else:\n",
    "                    ret_dict[factor] = -other[factor]\n",
    "            return ret_dict\n",
    "        elif isinstance(other, int) or isinstance(other, float):\n",
    "            ret_dict = TermDict(self)\n",
    "            ret_dict[COEFF_KEY] /= float(other)\n",
    "            return ret_dict\n",
    "        elif isinstance(other, ExprDict):\n",
    "            return other.__rtruediv__(self)\n",
    "        else:\n",
    "            raise_error(\"Not implemented : TermDict / Unknown\")\n",
    "\n",
    "    def __rtruediv__(self, other):\n",
    "        if isinstance(other, float) or isinstance(other, int):\n",
    "            ret_dict = TermDict(self)\n",
    "            for factor, power in self.items():\n",
    "                if factor == COEFF_KEY:\n",
    "                    ret_dict[COEFF_KEY] = 1/ret_dict.get_coefficient()\n",
    "                else:\n",
    "                    ret_dict[factor] = -ret_dict[factor]\n",
    "            return ret_dict\n",
    "        else:\n",
    "            raise_error(\"Not implemented : unknown / termdict\")\n",
    "\n",
    "    def __pow__(self, power, modulo=None):\n",
    "        if isinstance(power, float):\n",
    "            if power == 0:\n",
    "                return TermDict(1)\n",
    "            ret_dict = TermDict(self)\n",
    "            for key in ret_dict.keys():\n",
    "                if key == COEFF_KEY:\n",
    "                    ret_dict[key] = ret_dict[key]**power\n",
    "                else:\n",
    "                    ret_dict[key] *= power\n",
    "            return ret_dict\n",
    "        elif isinstance(power, int):\n",
    "            return self ** float(power)\n",
    "        elif isinstance(power, TermDict):\n",
    "            if power.is_constant():\n",
    "                return self ** power.get_coefficient()\n",
    "            else:\n",
    "                ret_dict = TermDict(self)\n",
    "                for factor, po in self.items():\n",
    "                    if factor == COEFF_KEY:\n",
    "                        if self.get_coefficient() != 1:\n",
    "                            if power.get_coefficient() == 1:\n",
    "                                coff_td = TermDict(self.get_coefficient())\n",
    "                                ret_dict[coff_td] = power\n",
    "                            else:\n",
    "                                coff_td = TermDict(self.get_coefficient() ** power.get_coefficient())\n",
    "                                ret_dict[coff_td] = power / power.get_coefficient()\n",
    "                        ret_dict[COEFF_KEY] = 1\n",
    "                        \n",
    "                    else:\n",
    "                        ret_dict[factor] = ret_dict[factor] * power\n",
    "                return ret_dict\n",
    "            pass\n",
    "        elif isinstance(power, ExprDict):\n",
    "            pass\n",
    "\n",
    "    def __rpow__(self, other):\n",
    "        if isinstance(other, float) or isinstance(other, int):\n",
    "            new_const = TermDict(other)\n",
    "            return new_const ** self\n",
    "\n",
    "    def __neg__(self):\n",
    "        ret_dict = TermDict(self)\n",
    "        ret_dict[COEFF_KEY] *= -1.0\n",
    "        return ret_dict\n",
    "\n",
    "    def __str__(self):\n",
    "        if self.is_constant():\n",
    "            ret_str = str(self.get_coefficient())\n",
    "        else:\n",
    "            if self.get_coefficient() == 1:\n",
    "                ret_str = self.get_str_without_coeff()\n",
    "            elif self.get_coefficient() == -1:\n",
    "                ret_str = \"-\" + self.get_str_without_coeff()\n",
    "            else:\n",
    "                ret_str = str(self.get_coefficient()) + \"*\" + self.get_str_without_coeff()\n",
    "        return ret_str\n",
    "\n",
    "    def __eq__(self, other):\n",
    "        if isinstance(other, TermDict):\n",
    "            return hash(self) == hash(other)\n",
    "        return super(self.__class__, self).__eq__(other)\n",
    "    \n",
    "    def __lt__(self, other):\n",
    "        if isinstance(other, str):\n",
    "            return False\n",
    "        elif isinstance(other, TermDict):\n",
    "            if len(self) != len(other):\n",
    "                return len(self) > len(other)\n",
    "            else:\n",
    "                self_dim = 0\n",
    "                other_dim = 0\n",
    "                for factor, power in other.items():\n",
    "                    other_dim = other_dim + power\n",
    "                for factor, power in self.items():\n",
    "                    self_dim = self_dim + power\n",
    "\n",
    "                if (isinstance(self_dim, float) or isinstance(self_dim, int)) and (\n",
    "                    isinstance(other_dim, float) or isinstance(other_dim, int)):\n",
    "                    return self_dim < other_dim\n",
    "                else:\n",
    "                    return str(self) > str(other)\n",
    "        \n",
    "    def __hash__(self):\n",
    "        return hash(self.get_str_without_coeff())\n",
    "\n",
    "    def is_constant(self):\n",
    "        return len(self) == 1\n",
    "\n",
    "    def has_one_term(self):\n",
    "        return True\n",
    "    \n",
    "    def get_one_term(self):\n",
    "        return self\n",
    "    \n",
    "    def get_coefficient(self):\n",
    "        return strip_float(self[COEFF_KEY])\n",
    "\n",
    "    def get_constant(self):\n",
    "        return strip_float(self[COEFF_KEY])\n",
    "    \n",
    "    def calculate_variable(self, variable_dict):\n",
    "        \"\"\"\n",
    "        ret_dict, ret_code(계산 가능한지? SUCCESS이면 가능)\n",
    "        \"\"\"\n",
    "        ret_dict = TermDict(1)\n",
    "        ret_code = \"SUCCESS\"\n",
    "        for factor, power in self.items():\n",
    "            if factor == COEFF_KEY:\n",
    "                ret_dict[COEFF_KEY] *= power\n",
    "                continue\n",
    "            elif isinstance(factor, Variable):\n",
    "                if factor in variable_dict.keys():\n",
    "                    factor_calculated = variable_dict[factor]\n",
    "                else:\n",
    "                    factor_calculated = factor\n",
    "            else:\n",
    "                factor_calculated, fac_code = factor.calculate_variable(variable_dict)\n",
    "            \n",
    "            if isinstance(power, int) or isinstance(power, float):\n",
    "                power_calculated = power\n",
    "            elif isinstance(power, Variable):\n",
    "                if power in variable_dict.keys():\n",
    "                    power_calculated = variable_dict[power]\n",
    "                else:\n",
    "                    power_calculated = power\n",
    "            else:\n",
    "                power_calculated, return_code = power.calculate_variable(variable_dict)\n",
    "                if return_code != SUCCESS_CODE:\n",
    "                    ret_code = return_code\n",
    "            \n",
    "            if isinstance(power_calculated, float) or isinstance(power_calculated, int):\n",
    "                # 계산한 지수가 상수\n",
    "                if power_calculated == 0:\n",
    "                    continue\n",
    "                    \n",
    "                # factor_calculated이 될 수 있는 것 : 항(expd, td), 변수(variable), 숫자\n",
    "                if isinstance(factor_calculated, float) or isinstance(factor_calculated, int):\n",
    "                    ret_dict[COEFF_KEY] *= factor_calculated ** power_calculated\n",
    "                    pass\n",
    "                elif isinstance(factor_calculated, Variable):\n",
    "                    ret_dict[factor_calculated] = power_calculated\n",
    "                    pass\n",
    "                else:\n",
    "                    pass\n",
    "                \n",
    "                    \n",
    "            \n",
    "        return ret_dict, ret_code\n",
    "                \n",
    "            \n",
    "                \n",
    "\n",
    "    def get_str_without_coeff(self):\n",
    "        if self.is_constant():\n",
    "            return CONST_KEY\n",
    "        ret_str = \"\"\n",
    "        write_coeff = 0\n",
    "        for i, (factor, _power) in enumerate(sorted(self.items())):\n",
    "            if factor == COEFF_KEY:\n",
    "                write_coeff = 1\n",
    "                continue\n",
    "\n",
    "            if isinstance(_power, float) and _power.is_integer():\n",
    "                power = int(_power)\n",
    "            else:\n",
    "                power = _power\n",
    "\n",
    "            if i-write_coeff > 0 and i-write_coeff < len(self.keys()):\n",
    "                ret_str += \"*\"\n",
    "            if factor == COEFF_KEY:\n",
    "                ret_str += str(power)\n",
    "            else:\n",
    "                if isinstance(power, float) or isinstance(power, int):\n",
    "                    if power == 1:\n",
    "                        ret_str += str(factor)\n",
    "                    elif power == -1:\n",
    "                        ret_str += '1' + '/(' + str(factor) + ')'\n",
    "                    elif power < 0:\n",
    "                        ret_str += '1' + '/(' + str(factor) + '^'  + str(-power)+')'\n",
    "                    else:\n",
    "                        ret_str += str(factor) + '^' + str(power)\n",
    "                else:\n",
    "                    ret_str += str(factor) + '^(' + str(power) +')'\n",
    "            if ret_str[0] == '*':\n",
    "                ret_str = ret_str[1:]\n",
    "        return ret_str\n"
   ]
  },
  {
   "cell_type": "markdown",
   "metadata": {},
   "source": [
    "td + td\n",
    "td - td\n",
    "td * td\n",
    "td / td\n",
    "td + 1\n",
    "td - 1\n",
    "td * 2\n",
    "td / 2\n",
    "td ** td\n",
    "\n",
    "ed + td\n",
    "ed - td\n",
    "ed * td\n",
    "ed / td\n",
    "ed ** td\n",
    "\n",
    "\n",
    "ed + ed\n",
    "ed - ed\n",
    "ed * ed\n",
    "ed / ed\n",
    "ed ** ed\n",
    "\n",
    "\n"
   ]
  },
  {
   "cell_type": "code",
   "execution_count": 308,
   "metadata": {
    "collapsed": true
   },
   "outputs": [],
   "source": [
    "import random"
   ]
  },
  {
   "cell_type": "code",
   "execution_count": 309,
   "metadata": {
    "collapsed": true
   },
   "outputs": [],
   "source": [
    "# coeffs = [-3., -3, -2., -2, -1., -1, -0.5, 0., 0, 0.5, 1., 1, 2., 2, 3., 3]\n",
    "coeffs = [-3., -3, -2., -2, -1., -1, -0.5, 0.5, 1., 1, 2., 2, 3., 3]\n",
    "vs = ['x', 'y', 'z']\n",
    "\n",
    "def get_random_td():\n",
    "    random.shuffle(coeffs)\n",
    "    td = TermDict(coeffs[0])\n",
    "    \n",
    "    num_var = random.randint(0,3)\n",
    "    random.shuffle(vs)\n",
    "    for i in range(num_var):\n",
    "        random.shuffle(coeffs)\n",
    "#         td[vs[i]] = float(int(random.random() * 10))/10\n",
    "        td[vs[i]] = coeffs[0]\n",
    "    \n",
    "    return td\n",
    "    \n",
    "    \n",
    "\n",
    "\n"
   ]
  },
  {
   "cell_type": "code",
   "execution_count": 312,
   "metadata": {},
   "outputs": [
    {
     "data": {
      "text/plain": [
       "({'$coeff': -3.0, 'x': -2, 'y': 3, 'z': -1.0},\n",
       " {'$coeff': -1},\n",
       " {'$coeff': -0.3333333333333333, 'x': 2.0, 'y': -3.0, 'z': 1.0})"
      ]
     },
     "execution_count": 312,
     "metadata": {},
     "output_type": "execute_result"
    }
   ],
   "source": [
    "td1 = get_random_td()\n",
    "td2 = get_random_td()\n",
    "td1, td2, td1 ** td2"
   ]
  },
  {
   "cell_type": "code",
   "execution_count": 313,
   "metadata": {},
   "outputs": [
    {
     "data": {
      "text/plain": [
       "{'$coeff': -0.3333333333333333, 'x': 2.0, 'y': -3.0, 'z': 1.0}"
      ]
     },
     "execution_count": 313,
     "metadata": {},
     "output_type": "execute_result"
    }
   ],
   "source": [
    "td1 ** td2  # 3^(-0.5*x*1/(y^3))"
   ]
  },
  {
   "cell_type": "code",
   "execution_count": 314,
   "metadata": {},
   "outputs": [
    {
     "name": "stdout",
     "output_type": "stream",
     "text": [
      "-0.3333333333333333*x^2*1/(y^3)*z\n"
     ]
    }
   ],
   "source": [
    "print(td1 ** td2)"
   ]
  },
  {
   "cell_type": "code",
   "execution_count": 325,
   "metadata": {},
   "outputs": [],
   "source": [
    "td3 = TermDict(3)\n",
    "td4 = TermDict(2)\n",
    "x = Variable('x')\n",
    "y = Variable('y')\n",
    "z = Variable('z')\n",
    "td4[x] = 1\n",
    "td4[y] = 1\n",
    "xy_9 = td3 * td4"
   ]
  },
  {
   "cell_type": "code",
   "execution_count": 326,
   "metadata": {},
   "outputs": [
    {
     "data": {
      "text/plain": [
       "(({'$coeff': 72}, 'SUCCESS'), {'$coeff': 6, 'x': 1, 'y': 1}, '6*x*y')"
      ]
     },
     "execution_count": 326,
     "metadata": {},
     "output_type": "execute_result"
    }
   ],
   "source": [
    "\n",
    "xy_9.calculate_variable({x:3, y:4, z:2}), xy_9, str(xy_9)"
   ]
  },
  {
   "cell_type": "code",
   "execution_count": 302,
   "metadata": {},
   "outputs": [
    {
     "name": "stdout",
     "output_type": "stream",
     "text": [
      "<class 'str'> False\n",
      "<class '__main__.Variable'> True\n"
     ]
    }
   ],
   "source": [
    "x = Variable('x')\n",
    "type(x), isinstance(x, Variable)\n",
    "for key in td1.keys():\n",
    "    print(type(key), isinstance(key, Variable))"
   ]
  },
  {
   "cell_type": "code",
   "execution_count": 306,
   "metadata": {},
   "outputs": [
    {
     "data": {
      "text/plain": [
       "({'$coeff': 81.0}, 'SUCCESS')"
      ]
     },
     "execution_count": 306,
     "metadata": {},
     "output_type": "execute_result"
    }
   ],
   "source": [
    "td1 = TermDict(3)\n",
    "x = Variable('x')\n",
    "td1[x] = x\n",
    "td1.calculate_variable({'x':3.0})"
   ]
  },
  {
   "cell_type": "code",
   "execution_count": 281,
   "metadata": {},
   "outputs": [
    {
     "data": {
      "text/plain": [
       "('9^(x*y)', '3^(x*y)', {'$coeff': 3}, {'$coeff': 1, 'x': 1, 'y': 1})"
      ]
     },
     "execution_count": 281,
     "metadata": {},
     "output_type": "execute_result"
    }
   ],
   "source": [
    "str(xy_9), str(xy_3), td3, td4"
   ]
  },
  {
   "cell_type": "code",
   "execution_count": 282,
   "metadata": {},
   "outputs": [
    {
     "name": "stdout",
     "output_type": "stream",
     "text": [
      "9^(x*y) {{'$coeff': 1, {'$coeff': 3}: {'$coeff': 1, 'x': 1, 'y': 1}}: 1, '$const': 0.0}\n",
      "not in\n",
      "3^(x*y) {{'$coeff': 1, {'$coeff': 3}: {'$coeff': 1, 'x': 1, 'y': 1}}: 1, '$const': 0.0, {'$coeff': 1, {'$coeff': 9}: {'$coeff': 1.0, 'x': 1, 'y': 1}}: 1}\n",
      "in\n"
     ]
    },
    {
     "data": {
      "text/plain": [
       "{{'$coeff': 1, {'$coeff': 3}: {'$coeff': 1, 'x': 1, 'y': 1}}: 2,\n",
       " '$const': 0.0,\n",
       " {'$coeff': 1, {'$coeff': 9}: {'$coeff': 1.0, 'x': 1, 'y': 1}}: 1}"
      ]
     },
     "execution_count": 282,
     "metadata": {},
     "output_type": "execute_result"
    }
   ],
   "source": [
    "xy_9 + xy_3 + 3 ** td4"
   ]
  },
  {
   "cell_type": "code",
   "execution_count": 283,
   "metadata": {},
   "outputs": [
    {
     "data": {
      "text/plain": [
       "'3^(x*y)'"
      ]
     },
     "execution_count": 283,
     "metadata": {},
     "output_type": "execute_result"
    }
   ],
   "source": [
    "str(3 ** td4)"
   ]
  },
  {
   "cell_type": "code",
   "execution_count": 284,
   "metadata": {},
   "outputs": [
    {
     "data": {
      "text/plain": [
       "('x*y', 'x*y', {'$coeff': 1, 'x': 1, 'y': 1}, {'$coeff': -1.0, 'x': 1, 'y': 1})"
      ]
     },
     "execution_count": 284,
     "metadata": {},
     "output_type": "execute_result"
    }
   ],
   "source": [
    "td4.get_str_without_coeff(), (-td4).get_str_without_coeff(), td4, -td4"
   ]
  },
  {
   "cell_type": "code",
   "execution_count": 285,
   "metadata": {},
   "outputs": [
    {
     "data": {
      "text/plain": [
       "(-1637283821803217022, -1637283821803217022)"
      ]
     },
     "execution_count": 285,
     "metadata": {},
     "output_type": "execute_result"
    }
   ],
   "source": [
    "hash(td4.get_str_without_coeff()), hash((-td4).get_str_without_coeff())"
   ]
  },
  {
   "cell_type": "code",
   "execution_count": 286,
   "metadata": {},
   "outputs": [
    {
     "name": "stdout",
     "output_type": "stream",
     "text": [
      "x*y {{'$coeff': -1.0, 'x': 1, 'y': 1}: -1.0, '$const': 0.0}\n",
      "in\n"
     ]
    }
   ],
   "source": [
    "td5 = td4 - td4"
   ]
  },
  {
   "cell_type": "code",
   "execution_count": 287,
   "metadata": {},
   "outputs": [
    {
     "data": {
      "text/plain": [
       "{'$const': 0.0}"
      ]
     },
     "execution_count": 287,
     "metadata": {},
     "output_type": "execute_result"
    }
   ],
   "source": [
    "td5"
   ]
  },
  {
   "cell_type": "code",
   "execution_count": 274,
   "metadata": {},
   "outputs": [
    {
     "data": {
      "text/plain": [
       "dict_keys([{'$coeff': -1.0, 'x': 1, 'y': 1}, '$const', {'$coeff': 1, 'x': 1, 'y': 1}])"
      ]
     },
     "execution_count": 274,
     "metadata": {},
     "output_type": "execute_result"
    }
   ],
   "source": [
    "td5.keys()"
   ]
  },
  {
   "cell_type": "code",
   "execution_count": 278,
   "metadata": {},
   "outputs": [
    {
     "data": {
      "text/plain": [
       "True"
      ]
     },
     "execution_count": 278,
     "metadata": {},
     "output_type": "execute_result"
    }
   ],
   "source": []
  },
  {
   "cell_type": "code",
   "execution_count": null,
   "metadata": {
    "collapsed": true
   },
   "outputs": [],
   "source": []
  }
 ],
 "metadata": {
  "kernelspec": {
   "display_name": "Python 3",
   "language": "python",
   "name": "python3"
  },
  "language_info": {
   "codemirror_mode": {
    "name": "ipython",
    "version": 3
   },
   "file_extension": ".py",
   "mimetype": "text/x-python",
   "name": "python",
   "nbconvert_exporter": "python",
   "pygments_lexer": "ipython3",
   "version": "3.6.1"
  }
 },
 "nbformat": 4,
 "nbformat_minor": 2
}
